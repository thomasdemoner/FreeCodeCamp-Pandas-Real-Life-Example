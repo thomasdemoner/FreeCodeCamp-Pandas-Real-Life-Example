{
  "cells": [
    {
      "cell_type": "markdown",
      "metadata": {
        "id": "squuL9gyLXTb"
      },
      "source": [
        "![rmotr](https://user-images.githubusercontent.com/7065401/52071918-bda15380-2562-11e9-828c-7f95297e4a82.png)\n",
        "<hr style=\"margin-bottom: 40px;\">\n",
        "\n",
        "<img src=\"https://user-images.githubusercontent.com/7065401/58563302-42466a80-8201-11e9-9948-b3e9f88a5662.jpg\"\n",
        "    style=\"width:400px; float: right; margin: 0 40px 40px 40px;\"></img>\n",
        "\n",
        "# Exercises\n",
        "## Bike store sales"
      ]
    },
    {
      "cell_type": "markdown",
      "metadata": {
        "id": "Y168U3zfLXTg"
      },
      "source": [
        "![purple-divider](https://user-images.githubusercontent.com/7065401/52071927-c1cd7100-2562-11e9-908a-dde91ba14e59.png)\n",
        "\n",
        "## Hands on! "
      ]
    },
    {
      "cell_type": "code",
      "execution_count": 3,
      "metadata": {
        "id": "rUT5cLw8LXTh"
      },
      "outputs": [],
      "source": [
        "import numpy as np\n",
        "import pandas as pd\n",
        "import matplotlib.pyplot as plt\n",
        "\n",
        "%matplotlib inline"
      ]
    },
    {
      "cell_type": "code",
      "execution_count": 4,
      "metadata": {
        "id": "mL7tZ6Y_LXTj"
      },
      "outputs": [],
      "source": [
        "sales = pd.read_csv(\n",
        "    'https://raw.githubusercontent.com/thomasdemoner/FreeCodeCamp-Pandas-Real-Life-Example/master/data/sales_data.csv',\n",
        "    parse_dates=['Date'])"
      ]
    },
    {
      "cell_type": "code",
      "execution_count": 5,
      "metadata": {
        "id": "pkobHKBBLXTj",
        "outputId": "eac13dda-602c-48a9-8be7-b127b95a6a73",
        "colab": {
          "base_uri": "https://localhost:8080/",
          "height": 444
        }
      },
      "outputs": [
        {
          "output_type": "execute_result",
          "data": {
            "text/html": [
              "\n",
              "  <div id=\"df-79e94cca-908f-465c-a137-1c91180a6a93\">\n",
              "    <div class=\"colab-df-container\">\n",
              "      <div>\n",
              "<style scoped>\n",
              "    .dataframe tbody tr th:only-of-type {\n",
              "        vertical-align: middle;\n",
              "    }\n",
              "\n",
              "    .dataframe tbody tr th {\n",
              "        vertical-align: top;\n",
              "    }\n",
              "\n",
              "    .dataframe thead th {\n",
              "        text-align: right;\n",
              "    }\n",
              "</style>\n",
              "<table border=\"1\" class=\"dataframe\">\n",
              "  <thead>\n",
              "    <tr style=\"text-align: right;\">\n",
              "      <th></th>\n",
              "      <th>Date</th>\n",
              "      <th>Day</th>\n",
              "      <th>Month</th>\n",
              "      <th>Year</th>\n",
              "      <th>Customer_Age</th>\n",
              "      <th>Age_Group</th>\n",
              "      <th>Customer_Gender</th>\n",
              "      <th>Country</th>\n",
              "      <th>State</th>\n",
              "      <th>Product_Category</th>\n",
              "      <th>Sub_Category</th>\n",
              "      <th>Product</th>\n",
              "      <th>Order_Quantity</th>\n",
              "      <th>Unit_Cost</th>\n",
              "      <th>Unit_Price</th>\n",
              "      <th>Profit</th>\n",
              "      <th>Cost</th>\n",
              "      <th>Revenue</th>\n",
              "    </tr>\n",
              "  </thead>\n",
              "  <tbody>\n",
              "    <tr>\n",
              "      <th>0</th>\n",
              "      <td>2013-11-26</td>\n",
              "      <td>26</td>\n",
              "      <td>November</td>\n",
              "      <td>2013</td>\n",
              "      <td>19</td>\n",
              "      <td>Youth (&lt;25)</td>\n",
              "      <td>M</td>\n",
              "      <td>Canada</td>\n",
              "      <td>British Columbia</td>\n",
              "      <td>Accessories</td>\n",
              "      <td>Bike Racks</td>\n",
              "      <td>Hitch Rack - 4-Bike</td>\n",
              "      <td>8</td>\n",
              "      <td>45</td>\n",
              "      <td>120</td>\n",
              "      <td>590</td>\n",
              "      <td>360</td>\n",
              "      <td>950</td>\n",
              "    </tr>\n",
              "    <tr>\n",
              "      <th>1</th>\n",
              "      <td>2015-11-26</td>\n",
              "      <td>26</td>\n",
              "      <td>November</td>\n",
              "      <td>2015</td>\n",
              "      <td>19</td>\n",
              "      <td>Youth (&lt;25)</td>\n",
              "      <td>M</td>\n",
              "      <td>Canada</td>\n",
              "      <td>British Columbia</td>\n",
              "      <td>Accessories</td>\n",
              "      <td>Bike Racks</td>\n",
              "      <td>Hitch Rack - 4-Bike</td>\n",
              "      <td>8</td>\n",
              "      <td>45</td>\n",
              "      <td>120</td>\n",
              "      <td>590</td>\n",
              "      <td>360</td>\n",
              "      <td>950</td>\n",
              "    </tr>\n",
              "    <tr>\n",
              "      <th>2</th>\n",
              "      <td>2014-03-23</td>\n",
              "      <td>23</td>\n",
              "      <td>March</td>\n",
              "      <td>2014</td>\n",
              "      <td>49</td>\n",
              "      <td>Adults (35-64)</td>\n",
              "      <td>M</td>\n",
              "      <td>Australia</td>\n",
              "      <td>New South Wales</td>\n",
              "      <td>Accessories</td>\n",
              "      <td>Bike Racks</td>\n",
              "      <td>Hitch Rack - 4-Bike</td>\n",
              "      <td>23</td>\n",
              "      <td>45</td>\n",
              "      <td>120</td>\n",
              "      <td>1366</td>\n",
              "      <td>1035</td>\n",
              "      <td>2401</td>\n",
              "    </tr>\n",
              "    <tr>\n",
              "      <th>3</th>\n",
              "      <td>2016-03-23</td>\n",
              "      <td>23</td>\n",
              "      <td>March</td>\n",
              "      <td>2016</td>\n",
              "      <td>49</td>\n",
              "      <td>Adults (35-64)</td>\n",
              "      <td>M</td>\n",
              "      <td>Australia</td>\n",
              "      <td>New South Wales</td>\n",
              "      <td>Accessories</td>\n",
              "      <td>Bike Racks</td>\n",
              "      <td>Hitch Rack - 4-Bike</td>\n",
              "      <td>20</td>\n",
              "      <td>45</td>\n",
              "      <td>120</td>\n",
              "      <td>1188</td>\n",
              "      <td>900</td>\n",
              "      <td>2088</td>\n",
              "    </tr>\n",
              "    <tr>\n",
              "      <th>4</th>\n",
              "      <td>2014-05-15</td>\n",
              "      <td>15</td>\n",
              "      <td>May</td>\n",
              "      <td>2014</td>\n",
              "      <td>47</td>\n",
              "      <td>Adults (35-64)</td>\n",
              "      <td>F</td>\n",
              "      <td>Australia</td>\n",
              "      <td>New South Wales</td>\n",
              "      <td>Accessories</td>\n",
              "      <td>Bike Racks</td>\n",
              "      <td>Hitch Rack - 4-Bike</td>\n",
              "      <td>4</td>\n",
              "      <td>45</td>\n",
              "      <td>120</td>\n",
              "      <td>238</td>\n",
              "      <td>180</td>\n",
              "      <td>418</td>\n",
              "    </tr>\n",
              "  </tbody>\n",
              "</table>\n",
              "</div>\n",
              "      <button class=\"colab-df-convert\" onclick=\"convertToInteractive('df-79e94cca-908f-465c-a137-1c91180a6a93')\"\n",
              "              title=\"Convert this dataframe to an interactive table.\"\n",
              "              style=\"display:none;\">\n",
              "        \n",
              "  <svg xmlns=\"http://www.w3.org/2000/svg\" height=\"24px\"viewBox=\"0 0 24 24\"\n",
              "       width=\"24px\">\n",
              "    <path d=\"M0 0h24v24H0V0z\" fill=\"none\"/>\n",
              "    <path d=\"M18.56 5.44l.94 2.06.94-2.06 2.06-.94-2.06-.94-.94-2.06-.94 2.06-2.06.94zm-11 1L8.5 8.5l.94-2.06 2.06-.94-2.06-.94L8.5 2.5l-.94 2.06-2.06.94zm10 10l.94 2.06.94-2.06 2.06-.94-2.06-.94-.94-2.06-.94 2.06-2.06.94z\"/><path d=\"M17.41 7.96l-1.37-1.37c-.4-.4-.92-.59-1.43-.59-.52 0-1.04.2-1.43.59L10.3 9.45l-7.72 7.72c-.78.78-.78 2.05 0 2.83L4 21.41c.39.39.9.59 1.41.59.51 0 1.02-.2 1.41-.59l7.78-7.78 2.81-2.81c.8-.78.8-2.07 0-2.86zM5.41 20L4 18.59l7.72-7.72 1.47 1.35L5.41 20z\"/>\n",
              "  </svg>\n",
              "      </button>\n",
              "      \n",
              "  <style>\n",
              "    .colab-df-container {\n",
              "      display:flex;\n",
              "      flex-wrap:wrap;\n",
              "      gap: 12px;\n",
              "    }\n",
              "\n",
              "    .colab-df-convert {\n",
              "      background-color: #E8F0FE;\n",
              "      border: none;\n",
              "      border-radius: 50%;\n",
              "      cursor: pointer;\n",
              "      display: none;\n",
              "      fill: #1967D2;\n",
              "      height: 32px;\n",
              "      padding: 0 0 0 0;\n",
              "      width: 32px;\n",
              "    }\n",
              "\n",
              "    .colab-df-convert:hover {\n",
              "      background-color: #E2EBFA;\n",
              "      box-shadow: 0px 1px 2px rgba(60, 64, 67, 0.3), 0px 1px 3px 1px rgba(60, 64, 67, 0.15);\n",
              "      fill: #174EA6;\n",
              "    }\n",
              "\n",
              "    [theme=dark] .colab-df-convert {\n",
              "      background-color: #3B4455;\n",
              "      fill: #D2E3FC;\n",
              "    }\n",
              "\n",
              "    [theme=dark] .colab-df-convert:hover {\n",
              "      background-color: #434B5C;\n",
              "      box-shadow: 0px 1px 3px 1px rgba(0, 0, 0, 0.15);\n",
              "      filter: drop-shadow(0px 1px 2px rgba(0, 0, 0, 0.3));\n",
              "      fill: #FFFFFF;\n",
              "    }\n",
              "  </style>\n",
              "\n",
              "      <script>\n",
              "        const buttonEl =\n",
              "          document.querySelector('#df-79e94cca-908f-465c-a137-1c91180a6a93 button.colab-df-convert');\n",
              "        buttonEl.style.display =\n",
              "          google.colab.kernel.accessAllowed ? 'block' : 'none';\n",
              "\n",
              "        async function convertToInteractive(key) {\n",
              "          const element = document.querySelector('#df-79e94cca-908f-465c-a137-1c91180a6a93');\n",
              "          const dataTable =\n",
              "            await google.colab.kernel.invokeFunction('convertToInteractive',\n",
              "                                                     [key], {});\n",
              "          if (!dataTable) return;\n",
              "\n",
              "          const docLinkHtml = 'Like what you see? Visit the ' +\n",
              "            '<a target=\"_blank\" href=https://colab.research.google.com/notebooks/data_table.ipynb>data table notebook</a>'\n",
              "            + ' to learn more about interactive tables.';\n",
              "          element.innerHTML = '';\n",
              "          dataTable['output_type'] = 'display_data';\n",
              "          await google.colab.output.renderOutput(dataTable, element);\n",
              "          const docLink = document.createElement('div');\n",
              "          docLink.innerHTML = docLinkHtml;\n",
              "          element.appendChild(docLink);\n",
              "        }\n",
              "      </script>\n",
              "    </div>\n",
              "  </div>\n",
              "  "
            ],
            "text/plain": [
              "        Date  Day     Month  Year  ...  Unit_Price Profit  Cost Revenue\n",
              "0 2013-11-26   26  November  2013  ...         120    590   360     950\n",
              "1 2015-11-26   26  November  2015  ...         120    590   360     950\n",
              "2 2014-03-23   23     March  2014  ...         120   1366  1035    2401\n",
              "3 2016-03-23   23     March  2016  ...         120   1188   900    2088\n",
              "4 2014-05-15   15       May  2014  ...         120    238   180     418\n",
              "\n",
              "[5 rows x 18 columns]"
            ]
          },
          "metadata": {},
          "execution_count": 5
        }
      ],
      "source": [
        "sales.head()"
      ]
    },
    {
      "cell_type": "markdown",
      "metadata": {
        "id": "QVOE7w60LXTj"
      },
      "source": [
        "![green-divider](https://user-images.githubusercontent.com/7065401/52071924-c003ad80-2562-11e9-8297-1c6595f8a7ff.png)\n",
        "\n",
        "### What's the mean of `Customers_Age`?"
      ]
    },
    {
      "cell_type": "code",
      "execution_count": null,
      "metadata": {
        "id": "SvB6nACpLXTk"
      },
      "outputs": [],
      "source": [
        "# your code goes here\n"
      ]
    },
    {
      "cell_type": "markdown",
      "metadata": {
        "cell_type": "hint",
        "id": "NZpX9llwLXTl"
      },
      "source": [
        "Why don't you try with `.mean()`"
      ]
    },
    {
      "cell_type": "code",
      "execution_count": null,
      "metadata": {
        "cell_type": "solution",
        "id": "YjCSQSpTLXTm"
      },
      "outputs": [],
      "source": [
        "sales['Customer_Age'].mean()"
      ]
    },
    {
      "cell_type": "markdown",
      "metadata": {
        "id": "JYWPHLhzLXTm"
      },
      "source": [
        "Go ahead and show a <b>density (KDE)</b> and a <b>box plot</b> with the `Customer_Age` data:"
      ]
    },
    {
      "cell_type": "code",
      "execution_count": null,
      "metadata": {
        "id": "hxNLJpsqLXTn"
      },
      "outputs": [],
      "source": [
        "# your code goes here\n"
      ]
    },
    {
      "cell_type": "code",
      "execution_count": null,
      "metadata": {
        "cell_type": "solution",
        "id": "m8ldQsGbLXTn"
      },
      "outputs": [],
      "source": [
        "sales['Customer_Age'].plot(kind='kde', figsize=(14,6))"
      ]
    },
    {
      "cell_type": "code",
      "execution_count": null,
      "metadata": {
        "cell_type": "solution",
        "id": "i98rH2qXLXTo"
      },
      "outputs": [],
      "source": [
        "sales['Customer_Age'].plot(kind='box', vert=False, figsize=(14,6))"
      ]
    },
    {
      "cell_type": "markdown",
      "metadata": {
        "id": "wsWHUFG0LXTo"
      },
      "source": [
        "![green-divider](https://user-images.githubusercontent.com/7065401/52071924-c003ad80-2562-11e9-8297-1c6595f8a7ff.png)\n",
        "\n",
        "### What's the mean of `Order_Quantity`?"
      ]
    },
    {
      "cell_type": "code",
      "execution_count": null,
      "metadata": {
        "id": "vHbqIxkjLXTp"
      },
      "outputs": [],
      "source": [
        "# your code goes here\n"
      ]
    },
    {
      "cell_type": "code",
      "execution_count": null,
      "metadata": {
        "cell_type": "solution",
        "id": "Rjwba0UcLXTp"
      },
      "outputs": [],
      "source": [
        "sales['Order_Quantity'].mean()"
      ]
    },
    {
      "cell_type": "markdown",
      "metadata": {
        "id": "2JJKMrKLLXTp"
      },
      "source": [
        "Go ahead and show a <b>histogram</b> and a <b>box plot</b> with the `Order_Quantity` data:"
      ]
    },
    {
      "cell_type": "code",
      "execution_count": null,
      "metadata": {
        "id": "bA-SpEx4LXTp"
      },
      "outputs": [],
      "source": [
        "# your code goes here\n"
      ]
    },
    {
      "cell_type": "code",
      "execution_count": null,
      "metadata": {
        "cell_type": "solution",
        "id": "k9shkauHLXTq"
      },
      "outputs": [],
      "source": [
        "sales['Order_Quantity'].plot(kind='hist', bins=30, figsize=(14,6))"
      ]
    },
    {
      "cell_type": "code",
      "execution_count": null,
      "metadata": {
        "cell_type": "solution",
        "id": "wDoIuj-4LXTq"
      },
      "outputs": [],
      "source": [
        "sales['Order_Quantity'].plot(kind='box', vert=False, figsize=(14,6))"
      ]
    },
    {
      "cell_type": "markdown",
      "metadata": {
        "id": "HHF60oLELXTq"
      },
      "source": [
        "![green-divider](https://user-images.githubusercontent.com/7065401/52071924-c003ad80-2562-11e9-8297-1c6595f8a7ff.png)\n",
        "\n",
        "### How many sales per year do we have?"
      ]
    },
    {
      "cell_type": "code",
      "execution_count": null,
      "metadata": {
        "id": "LJll0iZWLXTr"
      },
      "outputs": [],
      "source": [
        "# your code goes here\n"
      ]
    },
    {
      "cell_type": "code",
      "execution_count": null,
      "metadata": {
        "cell_type": "solution",
        "id": "FcBglm99LXTr"
      },
      "outputs": [],
      "source": [
        "sales['Year'].value_counts()"
      ]
    },
    {
      "cell_type": "markdown",
      "metadata": {
        "id": "PI83KKH_LXTr"
      },
      "source": [
        "Go ahead and show a <b>pie plot</b> with the previous data:"
      ]
    },
    {
      "cell_type": "code",
      "execution_count": null,
      "metadata": {
        "id": "tzEoPIqxLXTs"
      },
      "outputs": [],
      "source": [
        "# your code goes here\n"
      ]
    },
    {
      "cell_type": "code",
      "execution_count": null,
      "metadata": {
        "cell_type": "solution",
        "id": "smbDQRQcLXTs"
      },
      "outputs": [],
      "source": [
        "sales['Year'].value_counts().plot(kind='pie', figsize=(6,6))"
      ]
    },
    {
      "cell_type": "markdown",
      "metadata": {
        "id": "0JW7TJiwLXTs"
      },
      "source": [
        "![green-divider](https://user-images.githubusercontent.com/7065401/52071924-c003ad80-2562-11e9-8297-1c6595f8a7ff.png)\n",
        "\n",
        "### How many sales per month do we have?"
      ]
    },
    {
      "cell_type": "code",
      "execution_count": null,
      "metadata": {
        "id": "48idF2e7LXTs"
      },
      "outputs": [],
      "source": [
        "# your code goes here\n"
      ]
    },
    {
      "cell_type": "code",
      "execution_count": null,
      "metadata": {
        "cell_type": "solution",
        "id": "QHOl3Pu5LXTt"
      },
      "outputs": [],
      "source": [
        "sales['Month'].value_counts()"
      ]
    },
    {
      "cell_type": "markdown",
      "metadata": {
        "id": "DZOHJ0xjLXTt"
      },
      "source": [
        "Go ahead and show a <b>bar plot</b> with the previous data:"
      ]
    },
    {
      "cell_type": "code",
      "execution_count": null,
      "metadata": {
        "id": "5ge3C2OwLXTt"
      },
      "outputs": [],
      "source": [
        "# your code goes here\n"
      ]
    },
    {
      "cell_type": "code",
      "execution_count": null,
      "metadata": {
        "cell_type": "solution",
        "id": "oWc64b2ULXTt"
      },
      "outputs": [],
      "source": [
        "sales['Month'].value_counts().plot(kind='bar', figsize=(14,6))"
      ]
    },
    {
      "cell_type": "markdown",
      "metadata": {
        "id": "Y7c23kMJLXTt"
      },
      "source": [
        "![green-divider](https://user-images.githubusercontent.com/7065401/52071924-c003ad80-2562-11e9-8297-1c6595f8a7ff.png)\n",
        "\n",
        "### Which country has the most sales `quantity of sales`?"
      ]
    },
    {
      "cell_type": "code",
      "execution_count": null,
      "metadata": {
        "id": "j03W0VF6LXTt"
      },
      "outputs": [],
      "source": [
        "# your code goes here\n"
      ]
    },
    {
      "cell_type": "code",
      "execution_count": null,
      "metadata": {
        "cell_type": "solution",
        "id": "AKhANazWLXTu"
      },
      "outputs": [],
      "source": [
        "sales['Country'].value_counts().head(1)"
      ]
    },
    {
      "cell_type": "code",
      "execution_count": null,
      "metadata": {
        "cell_type": "solution",
        "id": "MnKrf3TdLXTu"
      },
      "outputs": [],
      "source": [
        "sales['Country'].value_counts()"
      ]
    },
    {
      "cell_type": "markdown",
      "metadata": {
        "id": "s2EOqYp_LXTu"
      },
      "source": [
        "Go ahead and show a <b>bar plot</b> of the sales per country:"
      ]
    },
    {
      "cell_type": "code",
      "execution_count": null,
      "metadata": {
        "id": "eym58vO_LXTu"
      },
      "outputs": [],
      "source": [
        "# your code goes here\n"
      ]
    },
    {
      "cell_type": "code",
      "execution_count": null,
      "metadata": {
        "cell_type": "solution",
        "id": "z2glZPwaLXTv"
      },
      "outputs": [],
      "source": [
        "sales['Country'].value_counts().plot(kind='bar', figsize=(14,6))"
      ]
    },
    {
      "cell_type": "markdown",
      "metadata": {
        "id": "5pKRb3VlLXTv"
      },
      "source": [
        "![green-divider](https://user-images.githubusercontent.com/7065401/52071924-c003ad80-2562-11e9-8297-1c6595f8a7ff.png)\n",
        "\n",
        "### Create a list of every product sold"
      ]
    },
    {
      "cell_type": "code",
      "execution_count": null,
      "metadata": {
        "id": "AMiysiEBLXTv"
      },
      "outputs": [],
      "source": [
        "# your code goes here\n"
      ]
    },
    {
      "cell_type": "code",
      "execution_count": null,
      "metadata": {
        "cell_type": "solution",
        "id": "1azkHlzDLXTv"
      },
      "outputs": [],
      "source": [
        "#sales.loc[:, 'Product'].unique()\n",
        "\n",
        "sales['Product'].unique()"
      ]
    },
    {
      "cell_type": "markdown",
      "metadata": {
        "id": "h--fC9Q-LXTv"
      },
      "source": [
        "Create a **bar plot** showing the 10 most sold products (best sellers):"
      ]
    },
    {
      "cell_type": "code",
      "execution_count": null,
      "metadata": {
        "id": "D5BDMFp9LXTw"
      },
      "outputs": [],
      "source": [
        "# your code goes here\n"
      ]
    },
    {
      "cell_type": "code",
      "execution_count": null,
      "metadata": {
        "cell_type": "solution",
        "id": "kqjm-gL0LXTw"
      },
      "outputs": [],
      "source": [
        "sales['Product'].value_counts().head(10).plot(kind='bar', figsize=(14,6))"
      ]
    },
    {
      "cell_type": "markdown",
      "metadata": {
        "id": "egwfFatELXTw"
      },
      "source": [
        "![green-divider](https://user-images.githubusercontent.com/7065401/52071924-c003ad80-2562-11e9-8297-1c6595f8a7ff.png)\n",
        "\n",
        "### Can you see any relationship between `Unit_Cost` and `Unit_Price`?\n",
        "\n",
        "Show a <b>scatter plot</b> between both columns."
      ]
    },
    {
      "cell_type": "code",
      "execution_count": null,
      "metadata": {
        "id": "bA7FuNjHLXTw"
      },
      "outputs": [],
      "source": [
        "# your code goes here\n"
      ]
    },
    {
      "cell_type": "code",
      "execution_count": null,
      "metadata": {
        "cell_type": "solution",
        "id": "pDVjUQKnLXTw"
      },
      "outputs": [],
      "source": [
        "sales.plot(kind='scatter', x='Unit_Cost', y='Unit_Price', figsize=(6,6))"
      ]
    },
    {
      "cell_type": "markdown",
      "metadata": {
        "id": "wMMSxg-MLXTx"
      },
      "source": [
        "![green-divider](https://user-images.githubusercontent.com/7065401/52071924-c003ad80-2562-11e9-8297-1c6595f8a7ff.png)\n",
        "\n",
        "### Can you see any relationship between `Order_Quantity` and `Profit`?\n",
        "\n",
        "Show a <b>scatter plot</b> between both columns."
      ]
    },
    {
      "cell_type": "code",
      "execution_count": null,
      "metadata": {
        "id": "AEz6yTe7LXTx"
      },
      "outputs": [],
      "source": [
        "# your code goes here\n"
      ]
    },
    {
      "cell_type": "code",
      "execution_count": null,
      "metadata": {
        "cell_type": "solution",
        "id": "0HnqiMrJLXTx"
      },
      "outputs": [],
      "source": [
        "sales.plot(kind='scatter', x='Order_Quantity', y='Profit', figsize=(6,6))"
      ]
    },
    {
      "cell_type": "markdown",
      "metadata": {
        "id": "TaDaM1wqLXTx"
      },
      "source": [
        "![green-divider](https://user-images.githubusercontent.com/7065401/52071924-c003ad80-2562-11e9-8297-1c6595f8a7ff.png)\n",
        "\n",
        "### Can you see any relationship between `Profit` per `Country`?\n",
        "\n",
        "Show a grouped <b>box plot</b> per country with the profit values."
      ]
    },
    {
      "cell_type": "code",
      "execution_count": null,
      "metadata": {
        "id": "Bv2CgClDLXTx"
      },
      "outputs": [],
      "source": [
        "# your code goes here\n"
      ]
    },
    {
      "cell_type": "code",
      "execution_count": null,
      "metadata": {
        "cell_type": "solution",
        "id": "gTmuGhpvLXTx"
      },
      "outputs": [],
      "source": [
        "sales[['Profit', 'Country']].boxplot(by='Country', figsize=(10,6))"
      ]
    },
    {
      "cell_type": "markdown",
      "metadata": {
        "id": "HeVKnwP2LXTy"
      },
      "source": [
        "![green-divider](https://user-images.githubusercontent.com/7065401/52071924-c003ad80-2562-11e9-8297-1c6595f8a7ff.png)\n",
        "\n",
        "### Can you see any relationship between the `Customer_Age` per `Country`?\n",
        "\n",
        "Show a grouped <b>box plot</b> per country with the customer age values."
      ]
    },
    {
      "cell_type": "code",
      "execution_count": null,
      "metadata": {
        "id": "d5QBEpQrLXTy"
      },
      "outputs": [],
      "source": [
        "# your code goes here\n"
      ]
    },
    {
      "cell_type": "code",
      "execution_count": null,
      "metadata": {
        "cell_type": "solution",
        "id": "Nmm6deuBLXTy"
      },
      "outputs": [],
      "source": [
        "sales[['Customer_Age', 'Country']].boxplot(by='Country', figsize=(10,6))"
      ]
    },
    {
      "cell_type": "markdown",
      "metadata": {
        "id": "YifQxaPOLXTy"
      },
      "source": [
        "![green-divider](https://user-images.githubusercontent.com/7065401/52071924-c003ad80-2562-11e9-8297-1c6595f8a7ff.png)\n",
        "\n",
        "### Add and calculate a new `Calculated_Date` column\n",
        "\n",
        "Use `Day`, `Month`, `Year` to create a `Date` column (`YYYY-MM-DD`)."
      ]
    },
    {
      "cell_type": "code",
      "execution_count": null,
      "metadata": {
        "id": "lYYVwQa3LXTy"
      },
      "outputs": [],
      "source": [
        "# your code goes here\n"
      ]
    },
    {
      "cell_type": "code",
      "execution_count": null,
      "metadata": {
        "cell_type": "solution",
        "id": "0GqrIxiULXTy"
      },
      "outputs": [],
      "source": [
        "sales['Calculated_Date'] = sales[['Year', 'Month', 'Day']].apply(lambda x: '{}-{}-{}'.format(x[0], x[1], x[2]), axis=1)\n",
        "\n",
        "sales['Calculated_Date'].head()"
      ]
    },
    {
      "cell_type": "markdown",
      "metadata": {
        "id": "-rTkkOGYLXTz"
      },
      "source": [
        "![green-divider](https://user-images.githubusercontent.com/7065401/52071924-c003ad80-2562-11e9-8297-1c6595f8a7ff.png)\n",
        "\n",
        "### Parse your `Calculated_Date` column into a datetime object"
      ]
    },
    {
      "cell_type": "code",
      "execution_count": null,
      "metadata": {
        "id": "9tw0zL5wLXTz"
      },
      "outputs": [],
      "source": [
        "# your code goes here\n"
      ]
    },
    {
      "cell_type": "code",
      "execution_count": null,
      "metadata": {
        "cell_type": "solution",
        "id": "xU0vYT_NLXTz"
      },
      "outputs": [],
      "source": [
        "sales['Calculated_Date'] = pd.to_datetime(sales['Calculated_Date'])\n",
        "\n",
        "sales['Calculated_Date'].head()"
      ]
    },
    {
      "cell_type": "markdown",
      "metadata": {
        "id": "pi1UWB7fLXTz"
      },
      "source": [
        "![green-divider](https://user-images.githubusercontent.com/7065401/52071924-c003ad80-2562-11e9-8297-1c6595f8a7ff.png)\n",
        "\n",
        "### How did sales evolve through the years?\n",
        "\n",
        "Show a <b>line plot</b> using `Calculated_Date` column as the x-axis and the count of sales as the y-axis."
      ]
    },
    {
      "cell_type": "code",
      "execution_count": null,
      "metadata": {
        "id": "Lk4MC3HMLXTz"
      },
      "outputs": [],
      "source": [
        "# your code goes here\n"
      ]
    },
    {
      "cell_type": "code",
      "execution_count": null,
      "metadata": {
        "cell_type": "solution",
        "id": "V7F9mUJgLXTz"
      },
      "outputs": [],
      "source": [
        "sales['Calculated_Date'].value_counts().plot(kind='line', figsize=(14,6))"
      ]
    },
    {
      "cell_type": "markdown",
      "metadata": {
        "id": "80WAD6ytLXT0"
      },
      "source": [
        "![green-divider](https://user-images.githubusercontent.com/7065401/52071924-c003ad80-2562-11e9-8297-1c6595f8a7ff.png)\n",
        "\n",
        "### Increase 50 U$S revenue to every sale"
      ]
    },
    {
      "cell_type": "code",
      "execution_count": null,
      "metadata": {
        "id": "1ie8f6laLXT0"
      },
      "outputs": [],
      "source": [
        "# your code goes here\n"
      ]
    },
    {
      "cell_type": "code",
      "execution_count": null,
      "metadata": {
        "cell_type": "solution",
        "id": "Kiq6pNVmLXT0"
      },
      "outputs": [],
      "source": [
        "#sales['Revenue'] = sales['Revenue'] + 50\n",
        "\n",
        "sales['Revenue'] += 50"
      ]
    },
    {
      "cell_type": "markdown",
      "metadata": {
        "id": "Qr3XDNo4LXT0"
      },
      "source": [
        "![green-divider](https://user-images.githubusercontent.com/7065401/52071924-c003ad80-2562-11e9-8297-1c6595f8a7ff.png)\n",
        "\n",
        "### How many orders were made in `Canada` or `France`?"
      ]
    },
    {
      "cell_type": "code",
      "execution_count": null,
      "metadata": {
        "id": "3xFwm6JDLXT0"
      },
      "outputs": [],
      "source": [
        "# your code goes here\n"
      ]
    },
    {
      "cell_type": "code",
      "execution_count": null,
      "metadata": {
        "cell_type": "solution",
        "id": "a-5ANQSQLXT0"
      },
      "outputs": [],
      "source": [
        "sales.loc[(sales['Country'] == 'Canada') | (sales['Country'] == 'France')].shape[0]"
      ]
    },
    {
      "cell_type": "markdown",
      "metadata": {
        "id": "qOeLcznKLXT0"
      },
      "source": [
        "![green-divider](https://user-images.githubusercontent.com/7065401/52071924-c003ad80-2562-11e9-8297-1c6595f8a7ff.png)\n",
        "\n",
        "### How many `Bike Racks` orders were made from Canada?"
      ]
    },
    {
      "cell_type": "code",
      "execution_count": null,
      "metadata": {
        "id": "FvBFPbA5LXT1"
      },
      "outputs": [],
      "source": [
        "# your code goes here\n"
      ]
    },
    {
      "cell_type": "code",
      "execution_count": null,
      "metadata": {
        "cell_type": "solution",
        "id": "qruQRRdsLXT1"
      },
      "outputs": [],
      "source": [
        "sales.loc[(sales['Country'] == 'Canada') & (sales['Sub_Category'] == 'Bike Racks')].shape[0]"
      ]
    },
    {
      "cell_type": "markdown",
      "metadata": {
        "id": "iPFs4zUsLXT1"
      },
      "source": [
        "![green-divider](https://user-images.githubusercontent.com/7065401/52071924-c003ad80-2562-11e9-8297-1c6595f8a7ff.png)\n",
        "\n",
        "### How many orders were made in each region (state) of France?"
      ]
    },
    {
      "cell_type": "code",
      "execution_count": null,
      "metadata": {
        "id": "cD1oJb4gLXT1"
      },
      "outputs": [],
      "source": [
        "# your code goes here\n"
      ]
    },
    {
      "cell_type": "code",
      "execution_count": null,
      "metadata": {
        "cell_type": "solution",
        "id": "Rcg1SaJCLXT1"
      },
      "outputs": [],
      "source": [
        "france_states = sales.loc[sales['Country'] == 'France', 'State'].value_counts()\n",
        "\n",
        "france_states"
      ]
    },
    {
      "cell_type": "markdown",
      "metadata": {
        "id": "CWR6L7erLXT1"
      },
      "source": [
        "Go ahead and show a <b>bar plot</b> with the results:"
      ]
    },
    {
      "cell_type": "code",
      "execution_count": null,
      "metadata": {
        "id": "WQgOMHGjLXT1"
      },
      "outputs": [],
      "source": [
        "# your code goes here\n"
      ]
    },
    {
      "cell_type": "code",
      "execution_count": null,
      "metadata": {
        "cell_type": "solution",
        "id": "3bfa9t5ELXT2"
      },
      "outputs": [],
      "source": [
        "france_states.plot(kind='bar', figsize=(14,6))"
      ]
    },
    {
      "cell_type": "markdown",
      "metadata": {
        "id": "AfPN9sI6LXT2"
      },
      "source": [
        "![green-divider](https://user-images.githubusercontent.com/7065401/52071924-c003ad80-2562-11e9-8297-1c6595f8a7ff.png)\n",
        "\n",
        "### How many sales were made per category?"
      ]
    },
    {
      "cell_type": "code",
      "execution_count": null,
      "metadata": {
        "id": "Uc4j7o-nLXT2"
      },
      "outputs": [],
      "source": [
        "# your code goes here\n"
      ]
    },
    {
      "cell_type": "code",
      "execution_count": null,
      "metadata": {
        "cell_type": "solution",
        "id": "RD7T837HLXT2"
      },
      "outputs": [],
      "source": [
        "sales['Product_Category'].value_counts()"
      ]
    },
    {
      "cell_type": "markdown",
      "metadata": {
        "id": "sZqDHbxsLXT2"
      },
      "source": [
        "Go ahead and show a <b>pie plot</b> with the results:"
      ]
    },
    {
      "cell_type": "code",
      "execution_count": null,
      "metadata": {
        "id": "yrhSB5KtLXT2"
      },
      "outputs": [],
      "source": [
        "# your code goes here\n"
      ]
    },
    {
      "cell_type": "code",
      "execution_count": null,
      "metadata": {
        "cell_type": "solution",
        "id": "TCUBHIytLXT3"
      },
      "outputs": [],
      "source": [
        "sales['Product_Category'].value_counts().plot(kind='pie', figsize=(6,6))"
      ]
    },
    {
      "cell_type": "markdown",
      "metadata": {
        "id": "8-RtJDXVLXT3"
      },
      "source": [
        "![green-divider](https://user-images.githubusercontent.com/7065401/52071924-c003ad80-2562-11e9-8297-1c6595f8a7ff.png)\n",
        "\n",
        "### How many orders were made per accessory sub-categories?"
      ]
    },
    {
      "cell_type": "code",
      "execution_count": null,
      "metadata": {
        "id": "8VKfQBWKLXT3"
      },
      "outputs": [],
      "source": [
        "# your code goes here\n"
      ]
    },
    {
      "cell_type": "code",
      "execution_count": null,
      "metadata": {
        "cell_type": "solution",
        "id": "tQJ78RAwLXT3"
      },
      "outputs": [],
      "source": [
        "accessories = sales.loc[sales['Product_Category'] == 'Accessories', 'Sub_Category'].value_counts()\n",
        "\n",
        "accessories"
      ]
    },
    {
      "cell_type": "markdown",
      "metadata": {
        "id": "2oMrmg_1LXT3"
      },
      "source": [
        "Go ahead and show a <b>bar plot</b> with the results:"
      ]
    },
    {
      "cell_type": "code",
      "execution_count": null,
      "metadata": {
        "id": "eBE31i8gLXT3"
      },
      "outputs": [],
      "source": [
        "# your code goes here\n"
      ]
    },
    {
      "cell_type": "code",
      "execution_count": null,
      "metadata": {
        "cell_type": "solution",
        "id": "8tFS3DK-LXT3"
      },
      "outputs": [],
      "source": [
        "accessories.plot(kind='bar', figsize=(14,6))"
      ]
    },
    {
      "cell_type": "markdown",
      "metadata": {
        "id": "VZGuoHyMLXT4"
      },
      "source": [
        "![green-divider](https://user-images.githubusercontent.com/7065401/52071924-c003ad80-2562-11e9-8297-1c6595f8a7ff.png)\n",
        "\n",
        "### How many orders were made per bike sub-categories?"
      ]
    },
    {
      "cell_type": "code",
      "execution_count": null,
      "metadata": {
        "id": "eY0p1bRaLXT4"
      },
      "outputs": [],
      "source": [
        "# your code goes here\n"
      ]
    },
    {
      "cell_type": "code",
      "execution_count": null,
      "metadata": {
        "cell_type": "solution",
        "id": "-mH2KCuXLXT4"
      },
      "outputs": [],
      "source": [
        "bikes = sales.loc[sales['Product_Category'] == 'Bikes', 'Sub_Category'].value_counts()\n",
        "\n",
        "bikes"
      ]
    },
    {
      "cell_type": "markdown",
      "metadata": {
        "id": "Ltp2t9gaLXT4"
      },
      "source": [
        "Go ahead and show a <b>pie plot</b> with the results:"
      ]
    },
    {
      "cell_type": "code",
      "execution_count": null,
      "metadata": {
        "id": "6VaztEnJLXT4"
      },
      "outputs": [],
      "source": [
        "# your code goes here\n"
      ]
    },
    {
      "cell_type": "code",
      "execution_count": null,
      "metadata": {
        "cell_type": "solution",
        "id": "yWEB6JLbLXT4"
      },
      "outputs": [],
      "source": [
        "bikes.plot(kind='pie', figsize=(6,6))"
      ]
    },
    {
      "cell_type": "markdown",
      "metadata": {
        "id": "Nykz0wYlLXT4"
      },
      "source": [
        "![green-divider](https://user-images.githubusercontent.com/7065401/52071924-c003ad80-2562-11e9-8297-1c6595f8a7ff.png)\n",
        "\n",
        "### Which gender has the most amount of sales?"
      ]
    },
    {
      "cell_type": "code",
      "execution_count": null,
      "metadata": {
        "id": "UCUHX7L3LXT5"
      },
      "outputs": [],
      "source": [
        "# your code goes here\n"
      ]
    },
    {
      "cell_type": "code",
      "execution_count": null,
      "metadata": {
        "cell_type": "solution",
        "id": "G3ryR-WFLXT5"
      },
      "outputs": [],
      "source": [
        "sales['Customer_Gender'].value_counts()"
      ]
    },
    {
      "cell_type": "code",
      "execution_count": null,
      "metadata": {
        "cell_type": "solution",
        "id": "KnTmz0z7LXT5"
      },
      "outputs": [],
      "source": [
        "sales['Customer_Gender'].value_counts().plot(kind='bar')"
      ]
    },
    {
      "cell_type": "markdown",
      "metadata": {
        "id": "Em_ncn_YLXT5"
      },
      "source": [
        "![green-divider](https://user-images.githubusercontent.com/7065401/52071924-c003ad80-2562-11e9-8297-1c6595f8a7ff.png)\n",
        "\n",
        "### How many sales with more than 500 in `Revenue` were made by men?"
      ]
    },
    {
      "cell_type": "code",
      "execution_count": null,
      "metadata": {
        "id": "nEK_2sDCLXT5"
      },
      "outputs": [],
      "source": [
        "# your code goes here\n"
      ]
    },
    {
      "cell_type": "code",
      "execution_count": null,
      "metadata": {
        "cell_type": "solution",
        "id": "kjP6o4sbLXT5"
      },
      "outputs": [],
      "source": [
        "sales.loc[(sales['Customer_Gender'] == 'M') & (sales['Revenue'] == 500)].shape[0]"
      ]
    },
    {
      "cell_type": "markdown",
      "metadata": {
        "id": "i9YnSUo8LXT6"
      },
      "source": [
        "![green-divider](https://user-images.githubusercontent.com/7065401/52071924-c003ad80-2562-11e9-8297-1c6595f8a7ff.png)\n",
        "\n",
        "### Get the top-5 sales with the highest revenue"
      ]
    },
    {
      "cell_type": "code",
      "execution_count": null,
      "metadata": {
        "id": "WsWy7fL4LXT6"
      },
      "outputs": [],
      "source": [
        "# your code goes here\n"
      ]
    },
    {
      "cell_type": "code",
      "execution_count": null,
      "metadata": {
        "cell_type": "solution",
        "id": "VmQCfA4pLXT6"
      },
      "outputs": [],
      "source": [
        "sales.sort_values(['Revenue'], ascending=False).head(5)"
      ]
    },
    {
      "cell_type": "markdown",
      "metadata": {
        "id": "gnAWlhgTLXT6"
      },
      "source": [
        "![green-divider](https://user-images.githubusercontent.com/7065401/52071924-c003ad80-2562-11e9-8297-1c6595f8a7ff.png)\n",
        "\n",
        "### Get the sale with the highest revenue"
      ]
    },
    {
      "cell_type": "code",
      "execution_count": null,
      "metadata": {
        "id": "vYiwl93ZLXT6"
      },
      "outputs": [],
      "source": [
        "# your code goes here\n"
      ]
    },
    {
      "cell_type": "code",
      "execution_count": null,
      "metadata": {
        "cell_type": "solution",
        "id": "K1p4nJGeLXT7"
      },
      "outputs": [],
      "source": [
        "#sales.sort_values(['Revenue'], ascending=False).head(1)\n",
        "\n",
        "cond = sales['Revenue'] == sales['Revenue'].max()\n",
        "\n",
        "sales.loc[cond]"
      ]
    },
    {
      "cell_type": "markdown",
      "metadata": {
        "id": "ZOEE6OpTLXT7"
      },
      "source": [
        "![green-divider](https://user-images.githubusercontent.com/7065401/52071924-c003ad80-2562-11e9-8297-1c6595f8a7ff.png)\n",
        "\n",
        "### What is the mean `Order_Quantity` of orders with more than 10K in revenue?"
      ]
    },
    {
      "cell_type": "code",
      "execution_count": null,
      "metadata": {
        "id": "J_OqfG6fLXT7"
      },
      "outputs": [],
      "source": [
        "# your code goes here\n"
      ]
    },
    {
      "cell_type": "code",
      "execution_count": null,
      "metadata": {
        "cell_type": "solution",
        "id": "hOYG-tZRLXT7"
      },
      "outputs": [],
      "source": [
        "cond = sales['Revenue'] > 10_000\n",
        "\n",
        "sales.loc[cond, 'Order_Quantity'].mean()"
      ]
    },
    {
      "cell_type": "markdown",
      "metadata": {
        "id": "LtoUnLCULXT7"
      },
      "source": [
        "![green-divider](https://user-images.githubusercontent.com/7065401/52071924-c003ad80-2562-11e9-8297-1c6595f8a7ff.png)\n",
        "\n",
        "### What is the mean `Order_Quantity` of orders with less than 10K in revenue?"
      ]
    },
    {
      "cell_type": "code",
      "execution_count": null,
      "metadata": {
        "id": "6UDJ5X0DLXT8"
      },
      "outputs": [],
      "source": [
        "# your code goes here\n"
      ]
    },
    {
      "cell_type": "code",
      "execution_count": null,
      "metadata": {
        "cell_type": "solution",
        "id": "qFOuf7jkLXT8"
      },
      "outputs": [],
      "source": [
        "cond = sales['Revenue'] < 10_000\n",
        "\n",
        "sales.loc[cond, 'Order_Quantity'].mean()"
      ]
    },
    {
      "cell_type": "markdown",
      "metadata": {
        "id": "3cJ26CT2LXT8"
      },
      "source": [
        "![green-divider](https://user-images.githubusercontent.com/7065401/52071924-c003ad80-2562-11e9-8297-1c6595f8a7ff.png)\n",
        "\n",
        "### How many orders were made in May of 2016?"
      ]
    },
    {
      "cell_type": "code",
      "execution_count": null,
      "metadata": {
        "id": "iZUAVUTJLXT8"
      },
      "outputs": [],
      "source": [
        "# your code goes here\n"
      ]
    },
    {
      "cell_type": "code",
      "execution_count": null,
      "metadata": {
        "cell_type": "solution",
        "id": "WzE5Mp36LXT8"
      },
      "outputs": [],
      "source": [
        "cond = (sales['Year'] == 2016) & (sales['Month'] == 'May')\n",
        "\n",
        "sales.loc[cond].shape[0]"
      ]
    },
    {
      "cell_type": "markdown",
      "metadata": {
        "id": "BFqaokQkLXT8"
      },
      "source": [
        "![green-divider](https://user-images.githubusercontent.com/7065401/52071924-c003ad80-2562-11e9-8297-1c6595f8a7ff.png)\n",
        "\n",
        "### How many orders were made between May and July of 2016?"
      ]
    },
    {
      "cell_type": "code",
      "execution_count": null,
      "metadata": {
        "id": "UR_pAs0nLXT8"
      },
      "outputs": [],
      "source": [
        "# your code goes here\n"
      ]
    },
    {
      "cell_type": "code",
      "execution_count": null,
      "metadata": {
        "cell_type": "solution",
        "id": "62aqkKrQLXT9"
      },
      "outputs": [],
      "source": [
        "cond = (sales['Year'] == 2016) & (sales['Month'].isin(['May', 'June', 'July']))\n",
        "\n",
        "sales.loc[cond].shape[0]"
      ]
    },
    {
      "cell_type": "markdown",
      "metadata": {
        "id": "oqT21fr1LXT9"
      },
      "source": [
        "Show a grouped <b>box plot</b> per month with the profit values."
      ]
    },
    {
      "cell_type": "code",
      "execution_count": null,
      "metadata": {
        "id": "e-F_JNHcLXT9"
      },
      "outputs": [],
      "source": [
        "# your code goes here\n"
      ]
    },
    {
      "cell_type": "code",
      "execution_count": null,
      "metadata": {
        "cell_type": "solution",
        "id": "-ii8DKGYLXT9"
      },
      "outputs": [],
      "source": [
        "profit_2016 = sales.loc[sales['Year'] == 2016, ['Profit', 'Month']]\n",
        "\n",
        "profit_2016.boxplot(by='Month', figsize=(14,6))"
      ]
    },
    {
      "cell_type": "markdown",
      "metadata": {
        "id": "ohOu5R1mLXT9"
      },
      "source": [
        "![green-divider](https://user-images.githubusercontent.com/7065401/52071924-c003ad80-2562-11e9-8297-1c6595f8a7ff.png)\n",
        "\n",
        "### Add 7.2% TAX on every sale `Unit_Price` within United States"
      ]
    },
    {
      "cell_type": "code",
      "execution_count": null,
      "metadata": {
        "id": "yizmO_a6LXT9"
      },
      "outputs": [],
      "source": [
        "# your code goes here\n"
      ]
    },
    {
      "cell_type": "code",
      "execution_count": null,
      "metadata": {
        "cell_type": "solution",
        "id": "wzvtJ24aLXT-"
      },
      "outputs": [],
      "source": [
        "#sales.loc[sales['Country'] == 'United States', 'Unit_Price'] = sales.loc[sales['Country'] == 'United States', 'Unit_Price'] * 1.072\n",
        "\n",
        "sales.loc[sales['Country'] == 'United States', 'Unit_Price'] *= 1.072"
      ]
    },
    {
      "cell_type": "markdown",
      "metadata": {
        "id": "NtyWGhX-LXT-"
      },
      "source": [
        "![purple-divider](https://user-images.githubusercontent.com/7065401/52071927-c1cd7100-2562-11e9-908a-dde91ba14e59.png)"
      ]
    }
  ],
  "metadata": {
    "kernelspec": {
      "display_name": "Python 3",
      "language": "python",
      "name": "python3"
    },
    "language_info": {
      "codemirror_mode": {
        "name": "ipython",
        "version": 3
      },
      "file_extension": ".py",
      "mimetype": "text/x-python",
      "name": "python",
      "nbconvert_exporter": "python",
      "pygments_lexer": "ipython3",
      "version": "3.8.1"
    },
    "colab": {
      "name": "Exercises_1.ipynb",
      "provenance": []
    }
  },
  "nbformat": 4,
  "nbformat_minor": 0
}